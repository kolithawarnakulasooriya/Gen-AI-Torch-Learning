{
  "nbformat": 4,
  "nbformat_minor": 0,
  "metadata": {
    "colab": {
      "provenance": [],
      "gpuType": "T4",
      "authorship_tag": "ABX9TyMnEyeVeZyjKzbfu2XxRl8d",
      "include_colab_link": true
    },
    "kernelspec": {
      "name": "python3",
      "display_name": "Python 3"
    },
    "language_info": {
      "name": "python"
    },
    "accelerator": "GPU"
  },
  "cells": [
    {
      "cell_type": "markdown",
      "metadata": {
        "id": "view-in-github",
        "colab_type": "text"
      },
      "source": [
        "<a href=\"https://colab.research.google.com/github/kolithawarnakulasooriya/PyTorch-Learning/blob/main/Tensors.ipynb\" target=\"_parent\"><img src=\"https://colab.research.google.com/assets/colab-badge.svg\" alt=\"Open In Colab\"/></a>"
      ]
    },
    {
      "cell_type": "markdown",
      "source": [
        "# Tensors\n",
        "\n",
        "1. Tensors are the same representation like numpy. a multi dimensional single data type array.\n",
        "2. The data type is float32, numpy is float64\n",
        "3. easy to make operations with GPU level\n"
      ],
      "metadata": {
        "id": "Mn0TX4VwK0zS"
      }
    },
    {
      "cell_type": "code",
      "source": [
        "# python list\n",
        "l = [[1,2,3,4,5], [6,7,8,9,10]]\n",
        "l"
      ],
      "metadata": {
        "colab": {
          "base_uri": "https://localhost:8080/"
        },
        "id": "7tiiyprOLKi9",
        "outputId": "1228922a-6f7a-4063-d60f-57fbd39b32b7"
      },
      "execution_count": null,
      "outputs": [
        {
          "output_type": "execute_result",
          "data": {
            "text/plain": [
              "[[1, 2, 3, 4, 5], [6, 7, 8, 9, 10]]"
            ]
          },
          "metadata": {},
          "execution_count": 1
        }
      ]
    },
    {
      "cell_type": "code",
      "source": [
        "import numpy as np\n",
        "\n",
        "l1 = np.zeros((2,3))\n",
        "l2 = np.random.rand(3,4)\n",
        "\n",
        "l1, l2"
      ],
      "metadata": {
        "colab": {
          "base_uri": "https://localhost:8080/"
        },
        "id": "ExsQGB58LZe6",
        "outputId": "8d987b25-958d-461a-c322-f4afd0acf9c9"
      },
      "execution_count": null,
      "outputs": [
        {
          "output_type": "execute_result",
          "data": {
            "text/plain": [
              "(array([[0., 0., 0.],\n",
              "        [0., 0., 0.]]),\n",
              " array([[0.75290855, 0.77473556, 0.42930324, 0.46902793],\n",
              "        [0.53594214, 0.32787736, 0.32407083, 0.14541373],\n",
              "        [0.42915136, 0.09178172, 0.47735468, 0.01617994]]))"
            ]
          },
          "metadata": {},
          "execution_count": 7
        }
      ]
    },
    {
      "cell_type": "code",
      "source": [
        "import torch\n",
        "\n",
        "l3 = torch.randn(2,5,3)\n",
        "l3"
      ],
      "metadata": {
        "colab": {
          "base_uri": "https://localhost:8080/"
        },
        "id": "929AuEc5L2KJ",
        "outputId": "89aed129-da25-49c9-99a4-fe61300e9b53"
      },
      "execution_count": null,
      "outputs": [
        {
          "output_type": "execute_result",
          "data": {
            "text/plain": [
              "tensor([[[ 0.4089,  0.0353, -1.4081],\n",
              "         [-0.4630,  0.1586, -0.2465],\n",
              "         [ 0.1985, -0.2030,  0.9900],\n",
              "         [ 0.5375, -2.5154,  0.8733],\n",
              "         [ 0.8647,  1.2629, -1.4677]],\n",
              "\n",
              "        [[ 1.2457,  0.3813, -0.5941],\n",
              "         [ 1.3345,  0.2446, -0.8881],\n",
              "         [-0.1497,  0.5216,  1.3833],\n",
              "         [-0.2911,  2.3419, -0.3089],\n",
              "         [ 0.7902,  2.2655,  1.3051]]])"
            ]
          },
          "metadata": {},
          "execution_count": 10
        }
      ]
    }
  ]
}